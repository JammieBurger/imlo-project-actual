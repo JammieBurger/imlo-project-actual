{
  "cells": [
    {
      "cell_type": "markdown",
      "metadata": {
        "id": "view-in-github",
        "colab_type": "text"
      },
      "source": [
        "<a href=\"https://colab.research.google.com/github/JammieBurger/imlo-project-actual/blob/main/IMLO.ipynb\" target=\"_parent\"><img src=\"https://colab.research.google.com/assets/colab-badge.svg\" alt=\"Open In Colab\"/></a>"
      ]
    },
    {
      "cell_type": "markdown",
      "metadata": {
        "id": "bT6J7qPrmEQl"
      },
      "source": [
        "Initialising Training and Testing Data."
      ]
    },
    {
      "cell_type": "code",
      "execution_count": 15,
      "metadata": {
        "id": "cUt4Gdeggyhq"
      },
      "outputs": [],
      "source": [
        "import torch\n",
        "from torch import nn\n",
        "from torch import _dynamo\n",
        "from torch.utils.data import DataLoader\n",
        "from torchvision import datasets,transforms\n",
        "from torchvision.transforms import ToTensor\n",
        "import torch.nn.functional as F\n",
        "\n",
        "transform = transforms.Compose([\n",
        "    transforms.Resize((224, 224)),\n",
        "    transforms.ToTensor(),\n",
        "    transforms.Normalize(mean=[0.485, 0.456, 0.406], std=[0.229, 0.224, 0.225])])\n",
        "training_data = datasets.Flowers102(\n",
        "    root=\"data\",\n",
        "    split='train',\n",
        "    transform=transform,\n",
        "    download=True)\n",
        "test_data = datasets.Flowers102(\n",
        "    root=\"data\",\n",
        "    split=\"test\",\n",
        "    download=True,\n",
        "    transform=transform)"
      ]
    },
    {
      "cell_type": "code",
      "execution_count": 16,
      "metadata": {
        "colab": {
          "base_uri": "https://localhost:8080/"
        },
        "id": "0qcMQ0t1lGPv",
        "outputId": "d646a11c-e527-41ad-89cb-ca452d78da34"
      },
      "outputs": [
        {
          "output_type": "stream",
          "name": "stdout",
          "text": [
            "Using cuda device\n"
          ]
        }
      ],
      "source": [
        "batch_size = 64\n",
        "\n",
        "train_dataloader = DataLoader(training_data,batch_size)\n",
        "test_dataloader = DataLoader(test_data,batch_size)\n",
        "#for X, y in test_dataloader:\n",
        "    #print(f\"Shape of X [N, C, H, W]: {X.shape}\")\n",
        "    #print(f\"Shape of y: {y.shape} {y.dtype}\")\n",
        "    #break\n",
        "device = (\"cuda\"if torch.cuda.is_available()\n",
        "                else \"mps\"\n",
        "                if torch.backends.mps.is_available()\n",
        "                else \"cpu\")\n",
        "print(f\"Using {device} device\")\n",
        "\n",
        "class NeuralNetwork(nn.Module):\n",
        "    def __init__(self):\n",
        "        super().__init__()\n",
        "        self.layers = nn.Sequential(\n",
        "            nn.Conv2d(3, 32, (3,3), (1,1)),\n",
        "            nn.ReLU(),\n",
        "            nn.Conv2d(32, 64, (3,3), (1,1), (1,1)),\n",
        "            nn.ReLU(),\n",
        "            nn.MaxPool2d(2, 2), # output: 64 x 16 x 16\n",
        "            nn.BatchNorm2d(64),\n",
        "\n",
        "            nn.Conv2d(64, 128, (3,3), (1,1), (1,1)),\n",
        "            nn.ReLU(),\n",
        "            nn.Conv2d(128, 128, (3,3), (1,1), (1,1)),\n",
        "            nn.ReLU(),\n",
        "            nn.MaxPool2d(2, 2), # output: 128 x 8 x 8\n",
        "            nn.BatchNorm2d(128),\n",
        "\n",
        "            nn.Conv2d(128, 256, (3,3), (1,1), (1,1)),\n",
        "            nn.ReLU(),\n",
        "            nn.Conv2d(256, 256, (3,3), (1,1), (1,1)),\n",
        "            nn.ReLU(),\n",
        "            nn.MaxPool2d(2, 2), # output: 256 x 4 x 4\n",
        "            nn.BatchNorm2d(256),\n",
        "\n",
        "            nn.Flatten(),\n",
        "            nn.Linear(2304, 512),\n",
        "            nn.ReLU(),\n",
        "            nn.Linear(512, 102))\n",
        "            #nn.ReLU(),\n",
        "            #nn.Linear(512, 102))\n",
        "\n",
        "\n",
        "\n",
        "    def forward(self, x):\n",
        "        x = self.layers(x)\n",
        "\n",
        "        return x"
      ]
    },
    {
      "cell_type": "code",
      "execution_count": 17,
      "metadata": {
        "id": "6t7JGUk1lVes"
      },
      "outputs": [],
      "source": [
        "model = NeuralNetwork().to(device)\n",
        "#print(model)\n",
        "loss_fn = nn.CrossEntropyLoss()\n",
        "optimizer = torch.optim.Adam(model.parameters(), lr=0.0001)\n",
        "def train(dataloader, model, loss_fn, optimizer):\n",
        "    size = len(dataloader.dataset)\n",
        "    model.train()\n",
        "    for batch, (X, y) in enumerate(dataloader):\n",
        "        X, y = X.to(device), y.to(device)\n",
        "\n",
        "        pred = model(X)\n",
        "        loss = loss_fn(pred, y)\n",
        "\n",
        "        optimizer.zero_grad()\n",
        "        loss.backward()\n",
        "        optimizer.step()\n",
        "\n",
        "        if batch % 100 == 0:\n",
        "            loss, current = loss.item(), (batch + 1) * len(X)\n",
        "            print(f\"loss: {loss:>7f}  [{current:>5d}/{size:>5d}]\")\n",
        "def test(dataloader, model, loss_fn):\n",
        "    size = len(dataloader.dataset)\n",
        "    num_batches = len(dataloader)\n",
        "    model.eval()\n",
        "    test_loss, correct = 0, 0\n",
        "    with torch.no_grad():\n",
        "        for X, y in dataloader:\n",
        "            X, y = X.to(device), y.to(device)\n",
        "            pred = model(X)\n",
        "            test_loss += loss_fn(pred, y).item()\n",
        "            correct += (pred.argmax(1) == y).type(torch.float).sum().item()\n",
        "    test_loss /= num_batches\n",
        "    correct /= size\n",
        "    print(f\"Test Error: \\n Accuracy: {(100*correct):>0.1f}%, Avg loss: {test_loss:>8f} \\n\")"
      ]
    },
    {
      "cell_type": "code",
      "execution_count": null,
      "metadata": {
        "colab": {
          "base_uri": "https://localhost:8080/"
        },
        "id": "X6J_jebalZU9",
        "outputId": "3eb69adf-7b25-4457-f84c-8bd76ae55904"
      },
      "outputs": [
        {
          "output_type": "stream",
          "name": "stdout",
          "text": [
            "Epoch 1\n",
            "-------------------------------\n",
            "loss: 4.704475  [   64/ 1020]\n",
            "Test Error: \n",
            " Accuracy: 0.7%, Avg loss: 4.649596 \n",
            "\n",
            "Epoch 2\n",
            "-------------------------------\n",
            "loss: 3.704674  [   64/ 1020]\n",
            "Test Error: \n",
            " Accuracy: 0.8%, Avg loss: 4.670529 \n",
            "\n",
            "Epoch 3\n",
            "-------------------------------\n",
            "loss: 3.216165  [   64/ 1020]\n",
            "Test Error: \n",
            " Accuracy: 3.3%, Avg loss: 4.481084 \n",
            "\n",
            "Epoch 4\n",
            "-------------------------------\n",
            "loss: 2.765027  [   64/ 1020]\n",
            "Test Error: \n",
            " Accuracy: 9.8%, Avg loss: 4.167869 \n",
            "\n",
            "Epoch 5\n",
            "-------------------------------\n",
            "loss: 2.324965  [   64/ 1020]\n",
            "Test Error: \n",
            " Accuracy: 15.4%, Avg loss: 3.928262 \n",
            "\n",
            "Epoch 6\n",
            "-------------------------------\n",
            "loss: 1.949211  [   64/ 1020]\n",
            "Test Error: \n",
            " Accuracy: 18.4%, Avg loss: 3.766049 \n",
            "\n",
            "Epoch 7\n",
            "-------------------------------\n",
            "loss: 1.701481  [   64/ 1020]\n",
            "Test Error: \n",
            " Accuracy: 21.0%, Avg loss: 3.624021 \n",
            "\n",
            "Epoch 8\n",
            "-------------------------------\n",
            "loss: 1.438138  [   64/ 1020]\n",
            "Test Error: \n",
            " Accuracy: 21.4%, Avg loss: 3.519790 \n",
            "\n",
            "Epoch 9\n",
            "-------------------------------\n",
            "loss: 1.102291  [   64/ 1020]\n",
            "Test Error: \n",
            " Accuracy: 23.4%, Avg loss: 3.428491 \n",
            "\n",
            "Epoch 10\n",
            "-------------------------------\n",
            "loss: 0.812794  [   64/ 1020]\n",
            "Test Error: \n",
            " Accuracy: 24.9%, Avg loss: 3.357971 \n",
            "\n",
            "Epoch 11\n",
            "-------------------------------\n",
            "loss: 0.568738  [   64/ 1020]\n",
            "Test Error: \n",
            " Accuracy: 26.0%, Avg loss: 3.315145 \n",
            "\n",
            "Epoch 12\n",
            "-------------------------------\n",
            "loss: 0.411661  [   64/ 1020]\n",
            "Test Error: \n",
            " Accuracy: 25.2%, Avg loss: 3.312787 \n",
            "\n",
            "Epoch 13\n",
            "-------------------------------\n",
            "loss: 0.293528  [   64/ 1020]\n"
          ]
        }
      ],
      "source": [
        "\n",
        "epochs = 1000\n",
        "for t in range(epochs):\n",
        "    print(f\"Epoch {t+1}\\n-------------------------------\")\n",
        "    train(train_dataloader, model, loss_fn, optimizer)\n",
        "    test(test_dataloader, model, loss_fn)\n",
        "print(\"Done!\")\n",
        "torch.save(model.state_dict(), \"model.pth\")\n",
        "print(\"Saved PyTorch Model State to model.pth\")\n",
        "model = NeuralNetwork().to(device)\n",
        "model.load_state_dict(torch.load(\"model.pth\"))"
      ]
    }
  ],
  "metadata": {
    "colab": {
      "provenance": [],
      "gpuType": "T4",
      "authorship_tag": "ABX9TyNCCV4QANKeRZq/pqlp/DH/",
      "include_colab_link": true
    },
    "kernelspec": {
      "display_name": "Python 3",
      "name": "python3"
    },
    "language_info": {
      "name": "python"
    },
    "accelerator": "GPU"
  },
  "nbformat": 4,
  "nbformat_minor": 0
}