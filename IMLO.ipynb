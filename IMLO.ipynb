{
  "nbformat": 4,
  "nbformat_minor": 0,
  "metadata": {
    "colab": {
      "provenance": [],
      "gpuType": "T4",
      "authorship_tag": "ABX9TyOLb2S1gCshq51GGlo4r8p+",
      "include_colab_link": true
    },
    "kernelspec": {
      "name": "python3",
      "display_name": "Python 3"
    },
    "language_info": {
      "name": "python"
    },
    "accelerator": "GPU"
  },
  "cells": [
    {
      "cell_type": "markdown",
      "metadata": {
        "id": "view-in-github",
        "colab_type": "text"
      },
      "source": [
        "<a href=\"https://colab.research.google.com/github/JammieBurger/imlo-project-actual/blob/main/IMLO.ipynb\" target=\"_parent\"><img src=\"https://colab.research.google.com/assets/colab-badge.svg\" alt=\"Open In Colab\"/></a>"
      ]
    },
    {
      "cell_type": "markdown",
      "source": [
        "Initialising Training and Testing Data."
      ],
      "metadata": {
        "id": "bT6J7qPrmEQl"
      }
    },
    {
      "cell_type": "code",
      "execution_count": 27,
      "metadata": {
        "id": "cUt4Gdeggyhq"
      },
      "outputs": [],
      "source": [
        "import torch\n",
        "import torch.nn as nn\n",
        "from torch.utils.data import DataLoader\n",
        "from torchvision import datasets,transforms\n",
        "from torchvision.transforms import ToTensor\n",
        "import torch.nn.functional as F\n",
        "\n",
        "transform = transforms.Compose([\n",
        "    transforms.Resize((224, 224)),\n",
        "    transforms.ToTensor(),\n",
        "    transforms.Normalize(mean=[0.485, 0.456, 0.406], std=[0.229, 0.224, 0.225])])\n",
        "trainingData = datasets.Flowers102(\n",
        "    root=\"data\",\n",
        "    split='train',\n",
        "    transform=transform,\n",
        "    download=True)\n",
        "testData = datasets.Flowers102(\n",
        "    root=\"data\",\n",
        "    split=\"test\",\n",
        "    download=True,\n",
        "    transform=transform)"
      ]
    },
    {
      "cell_type": "markdown",
      "source": [
        "Creating Neural Network"
      ],
      "metadata": {
        "id": "6IkgniU3K9Co"
      }
    },
    {
      "cell_type": "code",
      "source": [
        "batchSize = 128\n",
        "\n",
        "trainDataloader = DataLoader(trainingData,batchSize)\n",
        "testDataloader = DataLoader(testData,batchSize)\n",
        "device = (\"cuda\"if torch.cuda.is_available()\n",
        "                else \"mps\"\n",
        "                if torch.backends.mps.is_available()\n",
        "                else \"cpu\")\n",
        "print(f\"Using {device} device\")\n",
        "class NeuralNetwork(nn.Module):\n",
        "    def __init__(self,inputFeatures=224*224*3,layerOne=2,layerTwo=3,outputFeatures=512):\n",
        "        super().__init__()\n",
        "        self.flatten = nn.Flatten()\n",
        "        self.firstLayer = nn.Linear(inputFeatures,layerOne)\n",
        "        self.secondLayer = nn.Linear(layerOne,layerTwo)\n",
        "        self.finalLayer = nn.Linear(layerTwo,outputFeatures)\n",
        "\n",
        "    def forward(self, x):\n",
        "        x = self.flatten(x)\n",
        "        x = F.relu(self.firstLayer(x))\n",
        "        x = F.relu(self.secondLayer(x))\n",
        "        x = self.finalLayer(x)\n",
        "        return x"
      ],
      "metadata": {
        "id": "wqIf3Ju2K9lh"
      },
      "execution_count": null,
      "outputs": []
    }
  ]
}